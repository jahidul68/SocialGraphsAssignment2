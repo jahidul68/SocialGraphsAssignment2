{
 "cells": [
  {
   "cell_type": "markdown",
   "metadata": {},
   "source": [
    "## TA General Comments on Assignment 1\n",
    "\n",
    "The following comments are notes I took when the TA presented the general pitfalls and errors that led to worse grades for Assigment 1."
   ]
  },
  {
   "cell_type": "markdown",
   "metadata": {},
   "source": [
    "#### **General**\n",
    "Answer all questions, refer to the exercises to ensure you've answered everything\n",
    "Do no try to infer something of argue for why a distribution might be poisson or power law distributed - if it is clearly not (there might be a reason as to why you don't see what you expected)\n",
    "\n",
    "Explain everything you show/plot but keep it concise.\n",
    "\n",
    "#### **Plotting**\n",
    "For plotting, use bar plots (refer to week 2) use scatter plots (without connection lines). Use correct scaling - better to show differences in i.e. power laws\n",
    "\n",
    "Remember titles, axis labels, and labels\n",
    "\n",
    "Make sure the viz demonstrates your points\n",
    "\n",
    "Comparison plots should be on the same plot (with the proper alpha transparency) setting, so they cannot conceal the data from us. Also use same binning, same axis (really good practice to have same ranges)\n",
    "\n",
    "Make plots readable and informative i.e. removing node labels of a network plot if they're not needed\n",
    "\n",
    "#### **Formatting**\n",
    "Repeat questions nad seperate questions from answrs visually (i.e. use bold headlines, colors, boxes.)\n",
    "\n",
    "\n",
    "SUPER NICE To have:\n",
    "- References to support your theory\n",
    "- An outline of what your next code cell does in the markdown or sentence between your code cells that builds a logical flow within the notebook\n",
    "\n",
    "Super nice to remove:\n",
    "- The outputs for testing purpose\n",
    "- The duplicates of imported libraries\n",
    "\n",
    "\n",
    "#### **Network (Country Musicians)**\n",
    "Approx 2k notes and 18k links (directed version of the network)\n",
    "Remove the self-loops (especially if you see them on the plot) if the article refer to itself\n",
    "\n",
    "Beware of multi-edges (if you construct different networks), if Dolly Parton refers to Bob Dylan 10 times, we dont need that\n",
    "\n",
    "\n",
    "#### **Statistical Test**\n",
    "The statistical tests are really good, plus points"
   ]
  },
  {
   "cell_type": "markdown",
   "metadata": {},
   "source": [
    "## Feedback on our hand-in\n",
    "\n",
    "*TA comments on Ass1:* Basically perfect hand-in with only a few very minor tweak we could have gotten 12/12. We got 2.75/3 on Part C (Simple network statistics: Country Musician Graph) because of: in and out degree histograms should have the same number of bins (if you compare them side by side). Also, for the exercise on connections we printed the top 5 total connections but we should have printed the top 5 for in-degree and the top 5 for out-degree seperatedly (the TA noted this was a very minor point).\n",
    "\n",
    "\"To go above and beyond\":\n",
    "- Add in-figure captions / explanations (like you would do in a Latex paper)\n",
    "- Improve the figure captions / titles\n",
    "- Reduce import duplicates"
   ]
  }
 ],
 "metadata": {
  "language_info": {
   "name": "python"
  }
 },
 "nbformat": 4,
 "nbformat_minor": 2
}
